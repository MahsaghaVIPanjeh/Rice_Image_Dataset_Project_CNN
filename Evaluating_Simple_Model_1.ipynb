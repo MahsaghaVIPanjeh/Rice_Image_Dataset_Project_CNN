{
 "cells": [
  {
   "cell_type": "markdown",
   "id": "fa89ee83",
   "metadata": {},
   "source": [
    "# Importing libraries"
   ]
  },
  {
   "cell_type": "code",
   "execution_count": 1,
   "id": "54086384",
   "metadata": {},
   "outputs": [],
   "source": [
    "import numpy as np\n",
    "import pandas as pd\n",
    "import matplotlib.pyplot as plt\n",
    "import seaborn as sns\n",
    "%matplotlib inline\n",
    "sns.set_style('whitegrid')\n",
    "import tensorflow as tf\n",
    "import pathlib\n",
    "from tensorflow.keras.models import load_model\n",
    "from keras.preprocessing.image import ImageDataGenerator\n",
    "from sklearn.metrics import classification_report,confusion_matrix"
   ]
  },
  {
   "cell_type": "markdown",
   "id": "55b1d29d",
   "metadata": {},
   "source": [
    "# Importing test set directory"
   ]
  },
  {
   "cell_type": "code",
   "execution_count": 2,
   "id": "a1808faa",
   "metadata": {},
   "outputs": [
    {
     "data": {
      "text/plain": [
       "WindowsPath('C:/Users/poya system/Desktop/Rice_Image_Dataset_Deep_Learning_Project/test')"
      ]
     },
     "execution_count": 2,
     "metadata": {},
     "output_type": "execute_result"
    }
   ],
   "source": [
    "dataset_test_dir = 'C:\\\\Users\\\\poya system\\\\Desktop\\\\Rice_Image_Dataset_Deep_Learning_Project\\\\test'\n",
    "dataset_test_dir = pathlib.Path(dataset_test_dir)\n",
    "dataset_test_dir"
   ]
  },
  {
   "cell_type": "code",
   "execution_count": 3,
   "id": "629e96b1",
   "metadata": {},
   "outputs": [],
   "source": [
    "test_datagen = ImageDataGenerator(rescale=1./255)"
   ]
  },
  {
   "cell_type": "code",
   "execution_count": 4,
   "id": "963fa97d",
   "metadata": {},
   "outputs": [
    {
     "name": "stdout",
     "output_type": "stream",
     "text": [
      "Found 7500 images belonging to 5 classes.\n"
     ]
    }
   ],
   "source": [
    "test_set = test_datagen.flow_from_directory(dataset_test_dir,target_size=(224,224),batch_size=32,shuffle=False)"
   ]
  },
  {
   "cell_type": "code",
   "execution_count": 5,
   "id": "a048b424",
   "metadata": {},
   "outputs": [
    {
     "data": {
      "text/plain": [
       "{'Arborio': 0, 'Basmati': 1, 'Ipsala': 2, 'Jasmine': 3, 'Karacadag': 4}"
      ]
     },
     "execution_count": 5,
     "metadata": {},
     "output_type": "execute_result"
    }
   ],
   "source": [
    "test_set.class_indices"
   ]
  },
  {
   "cell_type": "markdown",
   "id": "88549455",
   "metadata": {},
   "source": [
    "# loading simple model to predict test set values"
   ]
  },
  {
   "cell_type": "code",
   "execution_count": 6,
   "id": "4f2f6d00",
   "metadata": {},
   "outputs": [],
   "source": [
    "simple_model = load_model('RiceImageSimpleModel1.h5')"
   ]
  },
  {
   "cell_type": "code",
   "execution_count": 7,
   "id": "81b77a12",
   "metadata": {},
   "outputs": [],
   "source": [
    "test_steps_per_epoch = np.math.ceil(test_set.samples/test_set.batch_size)"
   ]
  },
  {
   "cell_type": "code",
   "execution_count": 8,
   "id": "73158f8f",
   "metadata": {},
   "outputs": [
    {
     "name": "stdout",
     "output_type": "stream",
     "text": [
      "235\n"
     ]
    }
   ],
   "source": [
    "print(test_steps_per_epoch)"
   ]
  },
  {
   "cell_type": "code",
   "execution_count": 9,
   "id": "97532783",
   "metadata": {},
   "outputs": [
    {
     "name": "stdout",
     "output_type": "stream",
     "text": [
      "235/235 [==============================] - 129s 549ms/step\n"
     ]
    }
   ],
   "source": [
    "prediction = simple_model.predict(test_set,steps=test_steps_per_epoch)"
   ]
  },
  {
   "cell_type": "code",
   "execution_count": 10,
   "id": "b0953bab",
   "metadata": {},
   "outputs": [],
   "source": [
    "predicted_classes = np.argmax(prediction,axis = 1)"
   ]
  },
  {
   "cell_type": "code",
   "execution_count": 11,
   "id": "5e8a661d",
   "metadata": {},
   "outputs": [
    {
     "name": "stdout",
     "output_type": "stream",
     "text": [
      "[0 0 0 ... 4 4 4]\n"
     ]
    }
   ],
   "source": [
    "print(predicted_classes)"
   ]
  },
  {
   "cell_type": "code",
   "execution_count": 12,
   "id": "a72e4a0e",
   "metadata": {},
   "outputs": [],
   "source": [
    "real_classes = test_set.classes"
   ]
  },
  {
   "cell_type": "code",
   "execution_count": 13,
   "id": "2bfd57da",
   "metadata": {},
   "outputs": [
    {
     "data": {
      "text/plain": [
       "array([0, 0, 0, ..., 4, 4, 4])"
      ]
     },
     "execution_count": 13,
     "metadata": {},
     "output_type": "execute_result"
    }
   ],
   "source": [
    "real_classes"
   ]
  },
  {
   "cell_type": "code",
   "execution_count": 14,
   "id": "a96bb7a4",
   "metadata": {},
   "outputs": [
    {
     "data": {
      "text/plain": [
       "array([0, 3, 4, 1, 2], dtype=int64)"
      ]
     },
     "execution_count": 14,
     "metadata": {},
     "output_type": "execute_result"
    }
   ],
   "source": [
    "pd.DataFrame(predicted_classes)[0].unique()"
   ]
  },
  {
   "cell_type": "code",
   "execution_count": 15,
   "id": "f835726b",
   "metadata": {},
   "outputs": [],
   "source": [
    "class_labels = list(test_set.class_indices.keys())"
   ]
  },
  {
   "cell_type": "code",
   "execution_count": 16,
   "id": "66b6746d",
   "metadata": {},
   "outputs": [
    {
     "data": {
      "text/plain": [
       "['Arborio', 'Basmati', 'Ipsala', 'Jasmine', 'Karacadag']"
      ]
     },
     "execution_count": 16,
     "metadata": {},
     "output_type": "execute_result"
    }
   ],
   "source": [
    "class_labels"
   ]
  },
  {
   "cell_type": "markdown",
   "id": "46ac1571",
   "metadata": {},
   "source": [
    "# Simple model evaluation"
   ]
  },
  {
   "cell_type": "code",
   "execution_count": 17,
   "id": "0887f4d2",
   "metadata": {},
   "outputs": [],
   "source": [
    "simple_model_report = classification_report(real_classes,predicted_classes,target_names=class_labels)"
   ]
  },
  {
   "cell_type": "code",
   "execution_count": 18,
   "id": "12a946a9",
   "metadata": {},
   "outputs": [
    {
     "name": "stdout",
     "output_type": "stream",
     "text": [
      "              precision    recall  f1-score   support\n",
      "\n",
      "     Arborio       0.95      0.99      0.97      1500\n",
      "     Basmati       0.81      0.98      0.89      1500\n",
      "      Ipsala       0.94      1.00      0.97      1500\n",
      "     Jasmine       0.97      0.69      0.81      1500\n",
      "   Karacadag       0.99      0.95      0.97      1500\n",
      "\n",
      "    accuracy                           0.92      7500\n",
      "   macro avg       0.93      0.92      0.92      7500\n",
      "weighted avg       0.93      0.92      0.92      7500\n",
      "\n"
     ]
    }
   ],
   "source": [
    "print(simple_model_report)"
   ]
  },
  {
   "cell_type": "code",
   "execution_count": 19,
   "id": "cd230363",
   "metadata": {},
   "outputs": [],
   "source": [
    "cm = confusion_matrix(real_classes,predicted_classes)"
   ]
  },
  {
   "cell_type": "code",
   "execution_count": 20,
   "id": "6ede01ec",
   "metadata": {},
   "outputs": [
    {
     "name": "stdout",
     "output_type": "stream",
     "text": [
      "[[1482    0    0    4   14]\n",
      " [   0 1473    0   27    0]\n",
      " [   2    0 1497    1    0]\n",
      " [   8  352  101 1039    0]\n",
      " [  71    0    0    0 1429]]\n"
     ]
    }
   ],
   "source": [
    "print(cm)"
   ]
  },
  {
   "cell_type": "code",
   "execution_count": 21,
   "id": "f16df153",
   "metadata": {},
   "outputs": [
    {
     "data": {
      "image/png": "[encoded data removed]",
      "text/plain": [
       "<Figure size 1200x800 with 2 Axes>"
      ]
     },
     "metadata": {},
     "output_type": "display_data"
    }
   ],
   "source": [
    "fig = plt.figure(figsize=(12,8))\n",
    "ax = plt.subplot()\n",
    "sns.heatmap(cm,annot=True,ax = ax)\n",
    "ax.set_xlabel('predicted',fontsize=20)\n",
    "ax.xaxis.set_label_position('bottom')\n",
    "ax.xaxis.set_ticklabels(class_labels,fontsize=10)\n",
    "ax.xaxis.tick_bottom()\n",
    "ax.set_ylabel('True',fontsize=20)\n",
    "ax.yaxis.set_ticklabels(class_labels,fontsize=10)\n",
    "plt.title('Rice Image Dataset Confusion matrix for Simple Model (1)',fontsize=20)\n",
    "plt.show()"
   ]
  },
  {
   "cell_type": "code",
   "execution_count": null,
   "id": "8274ff60",
   "metadata": {},
   "outputs": [],
   "source": []
  },
  {
   "cell_type": "code",
   "execution_count": null,
   "id": "039e06cc",
   "metadata": {},
   "outputs": [],
   "source": []
  }
 ],
 "metadata": {
  "kernelspec": {
   "display_name": "Python 3 (ipykernel)",
   "language": "python",
   "name": "python3"
  },
  "language_info": {
   "codemirror_mode": {
    "name": "ipython",
    "version": 3
   },
   "file_extension": ".py",
   "mimetype": "text/x-python",
   "name": "python",
   "nbconvert_exporter": "python",
   "pygments_lexer": "ipython3",
   "version": "3.9.12"
  }
 },
 "nbformat": 4,
 "nbformat_minor": 5
}
