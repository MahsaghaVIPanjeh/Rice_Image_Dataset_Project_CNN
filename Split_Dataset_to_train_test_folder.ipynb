{
 "cells": [
  {
   "cell_type": "markdown",
   "id": "a8c7527c",
   "metadata": {},
   "source": [
    "# Split dataset to train and test set"
   ]
  },
  {
   "cell_type": "code",
   "execution_count": 1,
   "id": "617d561c",
   "metadata": {},
   "outputs": [],
   "source": [
    "import os\n",
    "import shutil"
   ]
  },
  {
   "cell_type": "markdown",
   "id": "1c2ceb6b",
   "metadata": {},
   "source": [
    "# explanation:\n",
    "    In this dataset,totaly we have 75000 image data belongs to 5 category(Arborio, Basmati, Ipsala, Jasmine, Karacadag).\n",
    "    In each category, we have 15000 images.\n",
    "    We want to dedicate 10% of these data to test set and 90% of them to training.\n",
    "    So from total amount of data 7500 of them are for test set and 67500 of them for train set.\n",
    "    from each category(15000 data),1500 of them are for test set and 13500 for train set.\n"
   ]
  },
  {
   "cell_type": "code",
   "execution_count": 2,
   "id": "5dbe0c61",
   "metadata": {},
   "outputs": [],
   "source": [
    "#create folder for train and test \n",
    "original_dataset_folder = r\"C:\\Users\\poya system\\Desktop\\Rice_Image_Dataset_Deep_Learning_Project\\Rice_Image_Dataset\"\n",
    "train_dataset_folder = r\"C:\\Users\\poya system\\Desktop\\Rice_Image_Dataset_Deep_Learning_Project\\train\"\n",
    "test_dataset_folder = r\"C:\\Users\\poya system\\Desktop\\Rice_Image_Dataset_Deep_Learning_Project\\test\"\n",
    "os.mkdir(train_dataset_folder)\n",
    "os.mkdir(test_dataset_folder)"
   ]
  },
  {
   "cell_type": "code",
   "execution_count": 3,
   "id": "1d637ac2",
   "metadata": {},
   "outputs": [],
   "source": [
    "#create folder for each category in test and train folder\n",
    "names = ['Arborio','Basmati','Ipsala','Jasmine','Karacadag']\n",
    "for name in names:\n",
    "    file_path_train = r\"C:\\Users\\poya system\\Desktop\\Rice_Image_Dataset_Deep_Learning_Project\\train\\{i}\".format(i=name)\n",
    "    os.mkdir(file_path_train)\n",
    "    file_path_test = r\"C:\\Users\\poya system\\Desktop\\Rice_Image_Dataset_Deep_Learning_Project\\test\\{i}\".format(i=name)\n",
    "    os.mkdir(file_path_test)"
   ]
  },
  {
   "cell_type": "code",
   "execution_count": 4,
   "id": "6c15d4e1",
   "metadata": {},
   "outputs": [],
   "source": [
    "#Arborio training set\n",
    "Arborio_training_file_names = [\"Arborio ({number}).jpg\".format(number=i) for i in range(1,13501)]\n",
    "for filename in Arborio_training_file_names:\n",
    "    src_path = os.path.join(r\"C:\\Users\\poya system\\Desktop\\Rice_Image_Dataset_Deep_Learning_Project\\Rice_Image_Dataset\\Arborio\",filename)\n",
    "    destination_path = os.path.join(r\"C:\\Users\\poya system\\Desktop\\Rice_Image_Dataset_Deep_Learning_Project\\train\\Arborio\",filename)\n",
    "    shutil.copy(src_path,destination_path)"
   ]
  },
  {
   "cell_type": "code",
   "execution_count": 5,
   "id": "3c439b25",
   "metadata": {},
   "outputs": [],
   "source": [
    "#Arborio test set\n",
    "Arborio_test_file_names = [\"Arborio ({number}).jpg\".format(number=i) for i in range(13501,15001)]\n",
    "for filename in Arborio_test_file_names:\n",
    "    src_path = os.path.join(r\"C:\\Users\\poya system\\Desktop\\Rice_Image_Dataset_Deep_Learning_Project\\Rice_Image_Dataset\\Arborio\",filename)\n",
    "    destination_path = os.path.join(r\"C:\\Users\\poya system\\Desktop\\Rice_Image_Dataset_Deep_Learning_Project\\test\\Arborio\",filename)\n",
    "    shutil.copy(src_path,destination_path)"
   ]
  },
  {
   "cell_type": "code",
   "execution_count": 6,
   "id": "a130bf7e",
   "metadata": {},
   "outputs": [],
   "source": [
    "#Basmati training and test set\n",
    "Basmati_training_file_names = [\"basmati ({number}).jpg\".format(number=i) for i in range(1,13501)]\n",
    "for filename in Basmati_training_file_names:\n",
    "    src_path = os.path.join(r\"C:\\Users\\poya system\\Desktop\\Rice_Image_Dataset_Deep_Learning_Project\\Rice_Image_Dataset\\Basmati\",filename)\n",
    "    destination_path = os.path.join(r\"C:\\Users\\poya system\\Desktop\\Rice_Image_Dataset_Deep_Learning_Project\\train\\Basmati\",filename)\n",
    "    shutil.copy(src_path,destination_path)\n",
    "Basmati_test_file_names = [\"basmati ({number}).jpg\".format(number=i) for i in range(13501,15001)]\n",
    "for filename in Basmati_test_file_names:\n",
    "    src_path = os.path.join(r\"C:\\Users\\poya system\\Desktop\\Rice_Image_Dataset_Deep_Learning_Project\\Rice_Image_Dataset\\Basmati\",filename)\n",
    "    destination_path = os.path.join(r\"C:\\Users\\poya system\\Desktop\\Rice_Image_Dataset_Deep_Learning_Project\\test\\Basmati\",filename)\n",
    "    shutil.copy(src_path,destination_path)"
   ]
  },
  {
   "cell_type": "code",
   "execution_count": 7,
   "id": "de7f3bb3",
   "metadata": {},
   "outputs": [],
   "source": [
    "#Ipsala training and test set\n",
    "Ipsala_training_file_names = [\"Ipsala ({number}).jpg\".format(number=i) for i in range(1,13501)]\n",
    "for filename in Ipsala_training_file_names:\n",
    "    src_path = os.path.join(r\"C:\\Users\\poya system\\Desktop\\Rice_Image_Dataset_Deep_Learning_Project\\Rice_Image_Dataset\\Ipsala\",filename)\n",
    "    destination_path = os.path.join(r\"C:\\Users\\poya system\\Desktop\\Rice_Image_Dataset_Deep_Learning_Project\\train\\Ipsala\",filename)\n",
    "    shutil.copy(src_path,destination_path)\n",
    "Ipsala_test_file_names = [\"Ipsala ({number}).jpg\".format(number=i) for i in range(13501,15001)]\n",
    "for filename in Ipsala_test_file_names:\n",
    "    src_path = os.path.join(r\"C:\\Users\\poya system\\Desktop\\Rice_Image_Dataset_Deep_Learning_Project\\Rice_Image_Dataset\\Ipsala\",filename)\n",
    "    destination_path = os.path.join(r\"C:\\Users\\poya system\\Desktop\\Rice_Image_Dataset_Deep_Learning_Project\\test\\Ipsala\",filename)\n",
    "    shutil.copy(src_path,destination_path)"
   ]
  },
  {
   "cell_type": "code",
   "execution_count": 8,
   "id": "31bbe15e",
   "metadata": {},
   "outputs": [],
   "source": [
    "#Jasmine training and test set\n",
    "Jasmine_training_file_names = [\"Jasmine ({number}).jpg\".format(number=i) for i in range(1,13501)]\n",
    "for filename in Jasmine_training_file_names:\n",
    "    src_path = os.path.join(r\"C:\\Users\\poya system\\Desktop\\Rice_Image_Dataset_Deep_Learning_Project\\Rice_Image_Dataset\\Jasmine\",filename)\n",
    "    destination_path = os.path.join(r\"C:\\Users\\poya system\\Desktop\\Rice_Image_Dataset_Deep_Learning_Project\\train\\Jasmine\",filename)\n",
    "    shutil.copy(src_path,destination_path)\n",
    "Jasmine_test_file_names = [\"Jasmine ({number}).jpg\".format(number=i) for i in range(13501,15001)]\n",
    "for filename in Jasmine_test_file_names:\n",
    "    src_path = os.path.join(r\"C:\\Users\\poya system\\Desktop\\Rice_Image_Dataset_Deep_Learning_Project\\Rice_Image_Dataset\\Jasmine\",filename)\n",
    "    destination_path = os.path.join(r\"C:\\Users\\poya system\\Desktop\\Rice_Image_Dataset_Deep_Learning_Project\\test\\Jasmine\",filename)\n",
    "    shutil.copy(src_path,destination_path)"
   ]
  },
  {
   "cell_type": "code",
   "execution_count": null,
   "id": "b637bea6",
   "metadata": {},
   "outputs": [],
   "source": [
    "#Karacadag training and test set\n",
    "Karacadag_training_file_names = [\"Karacadag ({number}).jpg\".format(number=i) for i in range(1,13501)]\n",
    "for filename in Karacadag_training_file_names:\n",
    "    src_path = os.path.join(r\"C:\\Users\\poya system\\Desktop\\Rice_Image_Dataset_Deep_Learning_Project\\Rice_Image_Dataset\\Karacadag\",filename)\n",
    "    destination_path = os.path.join(r\"C:\\Users\\poya system\\Desktop\\Rice_Image_Dataset_Deep_Learning_Project\\train\\Karacadag\",filename)\n",
    "    shutil.copy(src_path,destination_path)\n",
    "Karacadag_test_file_names = [\"Karacadag ({number}).jpg\".format(number=i) for i in range(13501,15001)]\n",
    "for filename in Karacadag_test_file_names:\n",
    "    src_path = os.path.join(r\"C:\\Users\\poya system\\Desktop\\Rice_Image_Dataset_Deep_Learning_Project\\Rice_Image_Dataset\\Karacadag\",filename)\n",
    "    destination_path = os.path.join(r\"C:\\Users\\poya system\\Desktop\\Rice_Image_Dataset_Deep_Learning_Project\\test\\Karacadag\",filename)\n",
    "    shutil.copy(src_path,destination_path)"
   ]
  }
 ],
 "metadata": {
  "kernelspec": {
   "display_name": "Python 3 (ipykernel)",
   "language": "python",
   "name": "python3"
  },
  "language_info": {
   "codemirror_mode": {
    "name": "ipython",
    "version": 3
   },
   "file_extension": ".py",
   "mimetype": "text/x-python",
   "name": "python",
   "nbconvert_exporter": "python",
   "pygments_lexer": "ipython3",
   "version": "3.9.12"
  }
 },
 "nbformat": 4,
 "nbformat_minor": 5
}
