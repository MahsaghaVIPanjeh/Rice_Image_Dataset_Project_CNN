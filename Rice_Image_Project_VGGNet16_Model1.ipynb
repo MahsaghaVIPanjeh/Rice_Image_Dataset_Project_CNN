{
 "cells": [
  {
   "cell_type": "markdown",
   "id": "d8141ee5",
   "metadata": {},
   "source": [
    "# Import Libraries"
   ]
  },
  {
   "cell_type": "code",
   "execution_count": 1,
   "id": "44fcdb15",
   "metadata": {},
   "outputs": [],
   "source": [
    "import numpy as np\n",
    "import pandas as pd\n",
    "import matplotlib.pyplot as plt\n",
    "import seaborn as sns\n",
    "import tensorflow as tf\n",
    "from sklearn.model_selection import train_test_split\n",
    "from keras.preprocessing.image import ImageDataGenerator\n",
    "from tensorflow.keras.models import Sequential,save_model\n",
    "from tensorflow.keras.layers import Conv2D,MaxPool2D,Flatten,Dense,BatchNormalization,Activation,Dropout\n",
    "import pathlib\n",
    "from tensorflow.keras.optimizers import Adam\n",
    "%matplotlib inline\n",
    "sns.set_style('whitegrid')"
   ]
  },
  {
   "cell_type": "markdown",
   "id": "e7e2cba3",
   "metadata": {},
   "source": [
    "# Upload Dataset"
   ]
  },
  {
   "cell_type": "code",
   "execution_count": 2,
   "id": "56d977cb",
   "metadata": {},
   "outputs": [],
   "source": [
    "dataset_train_dir = 'C:\\\\Users\\\\poya system\\\\Desktop\\\\Rice_Image_Dataset_Deep_Learning_Project\\\\train'"
   ]
  },
  {
   "cell_type": "code",
   "execution_count": 3,
   "id": "f7e6b161",
   "metadata": {},
   "outputs": [
    {
     "data": {
      "text/plain": [
       "WindowsPath('C:/Users/poya system/Desktop/Rice_Image_Dataset_Deep_Learning_Project/train')"
      ]
     },
     "execution_count": 3,
     "metadata": {},
     "output_type": "execute_result"
    }
   ],
   "source": [
    "dataset_train_dir = pathlib.Path(dataset_train_dir)\n",
    "dataset_train_dir"
   ]
  },
  {
   "cell_type": "markdown",
   "id": "4f03910b",
   "metadata": {},
   "source": [
    "# Split dataset to train and validation"
   ]
  },
  {
   "cell_type": "code",
   "execution_count": 4,
   "id": "bf0c398c",
   "metadata": {},
   "outputs": [],
   "source": [
    "dataset_train_gen = ImageDataGenerator(rescale=1./255,validation_split=0.15)"
   ]
  },
  {
   "cell_type": "code",
   "execution_count": 5,
   "id": "a8e88b5b",
   "metadata": {},
   "outputs": [
    {
     "name": "stdout",
     "output_type": "stream",
     "text": [
      "Found 57375 images belonging to 5 classes.\n",
      "Found 10125 images belonging to 5 classes.\n"
     ]
    }
   ],
   "source": [
    "train_set = dataset_train_gen.flow_from_directory(dataset_train_dir,target_size=(224,224),batch_size=32,class_mode='categorical',shuffle=True,subset='training')\n",
    "validation_set = dataset_train_gen.flow_from_directory(dataset_train_dir,target_size=(224,224),batch_size=32,shuffle=False,subset='validation')"
   ]
  },
  {
   "cell_type": "code",
   "execution_count": 6,
   "id": "e5a72c7d",
   "metadata": {},
   "outputs": [
    {
     "data": {
      "text/plain": [
       "{'Arborio': 0, 'Basmati': 1, 'Ipsala': 2, 'Jasmine': 3, 'Karacadag': 4}"
      ]
     },
     "execution_count": 6,
     "metadata": {},
     "output_type": "execute_result"
    }
   ],
   "source": [
    "train_set.class_indices"
   ]
  },
  {
   "cell_type": "markdown",
   "id": "8e0e4601",
   "metadata": {},
   "source": [
    "# Bulding CNN Models"
   ]
  },
  {
   "cell_type": "markdown",
   "id": "0526ca01",
   "metadata": {},
   "source": [
    "## Building VGGNet-11 Model"
   ]
  },
  {
   "cell_type": "code",
   "execution_count": 7,
   "id": "8aa48143",
   "metadata": {},
   "outputs": [],
   "source": [
    "VGGNet11_model=Sequential()"
   ]
  },
  {
   "cell_type": "code",
   "execution_count": 8,
   "id": "117856ba",
   "metadata": {},
   "outputs": [],
   "source": [
    "VGGNet11_model.add(Conv2D(filters=64,kernel_size=(3,3),activation='relu',input_shape=[224,224,3]))\n",
    "VGGNet11_model.add(MaxPool2D(strides=2,pool_size=2))\n",
    "VGGNet11_model.add(Conv2D(filters=128,kernel_size=(3,3),activation='relu'))\n",
    "VGGNet11_model.add(MaxPool2D(strides=2,pool_size=2))\n",
    "VGGNet11_model.add(Conv2D(filters=256,kernel_size=(3,3),activation='relu'))\n",
    "VGGNet11_model.add(Conv2D(filters=256,kernel_size=(3,3),activation='relu'))\n",
    "VGGNet11_model.add(MaxPool2D(strides=2,pool_size=2))\n",
    "VGGNet11_model.add(Conv2D(filters=512,kernel_size=(3,3),activation='relu'))\n",
    "VGGNet11_model.add(Conv2D(filters=512,kernel_size=(3,3),activation='relu'))\n",
    "VGGNet11_model.add(MaxPool2D(strides=2,pool_size=2))\n",
    "VGGNet11_model.add(Conv2D(filters=512,kernel_size=(3,3),activation='relu'))\n",
    "VGGNet11_model.add(Conv2D(filters=512,kernel_size=(3,3),activation='relu'))\n",
    "VGGNet11_model.add(MaxPool2D(strides=2,pool_size=2))\n",
    "VGGNet11_model.add(Flatten())\n",
    "VGGNet11_model.add(Dense(units=4096,activation='relu'))\n",
    "VGGNet11_model.add(Dense(units=4096,activation='relu'))\n",
    "VGGNet11_model.add(Dense(units=5,activation='sigmoid'))"
   ]
  },
  {
   "cell_type": "code",
   "execution_count": 9,
   "id": "45baad70",
   "metadata": {},
   "outputs": [
    {
     "name": "stdout",
     "output_type": "stream",
     "text": [
      "Model: \"sequential\"\n",
      "_________________________________________________________________\n",
      " Layer (type)                Output Shape              Param #   \n",
      "=================================================================\n",
      " conv2d (Conv2D)             (None, 222, 222, 64)      1792      \n",
      "                                                                 \n",
      " max_pooling2d (MaxPooling2D  (None, 111, 111, 64)     0         \n",
      " )                                                               \n",
      "                                                                 \n",
      " conv2d_1 (Conv2D)           (None, 109, 109, 128)     73856     \n",
      "                                                                 \n",
      " max_pooling2d_1 (MaxPooling  (None, 54, 54, 128)      0         \n",
      " 2D)                                                             \n",
      "                                                                 \n",
      " conv2d_2 (Conv2D)           (None, 52, 52, 256)       295168    \n",
      "                                                                 \n",
      " conv2d_3 (Conv2D)           (None, 50, 50, 256)       590080    \n",
      "                                                                 \n",
      " max_pooling2d_2 (MaxPooling  (None, 25, 25, 256)      0         \n",
      " 2D)                                                             \n",
      "                                                                 \n",
      " conv2d_4 (Conv2D)           (None, 23, 23, 512)       1180160   \n",
      "                                                                 \n",
      " conv2d_5 (Conv2D)           (None, 21, 21, 512)       2359808   \n",
      "                                                                 \n",
      " max_pooling2d_3 (MaxPooling  (None, 10, 10, 512)      0         \n",
      " 2D)                                                             \n",
      "                                                                 \n",
      " conv2d_6 (Conv2D)           (None, 8, 8, 512)         2359808   \n",
      "                                                                 \n",
      " conv2d_7 (Conv2D)           (None, 6, 6, 512)         2359808   \n",
      "                                                                 \n",
      " max_pooling2d_4 (MaxPooling  (None, 3, 3, 512)        0         \n",
      " 2D)                                                             \n",
      "                                                                 \n",
      " flatten (Flatten)           (None, 4608)              0         \n",
      "                                                                 \n",
      " dense (Dense)               (None, 4096)              18878464  \n",
      "                                                                 \n",
      " dense_1 (Dense)             (None, 4096)              16781312  \n",
      "                                                                 \n",
      " dense_2 (Dense)             (None, 5)                 20485     \n",
      "                                                                 \n",
      "=================================================================\n",
      "Total params: 44,900,741\n",
      "Trainable params: 44,900,741\n",
      "Non-trainable params: 0\n",
      "_________________________________________________________________\n"
     ]
    }
   ],
   "source": [
    "VGGNet11_model.summary()"
   ]
  },
  {
   "cell_type": "code",
   "execution_count": 10,
   "id": "bf4cb290",
   "metadata": {},
   "outputs": [],
   "source": [
    "VGGNet11_model.compile(optimizer=Adam(learning_rate=0.01),loss='categorical_crossentropy',metrics=['accuracy'])"
   ]
  },
  {
   "cell_type": "code",
   "execution_count": null,
   "id": "528ce588",
   "metadata": {},
   "outputs": [
    {
     "name": "stdout",
     "output_type": "stream",
     "text": [
      "Epoch 1/2\n",
      "   4/1793 [..............................] - ETA: 10:41:48 - loss: 19.1237 - accuracy: 0.2188"
     ]
    }
   ],
   "source": [
    "VGGNet11_model.fit(x=train_set,validation_data=validation_set,epochs=2)"
   ]
  },
  {
   "cell_type": "code",
   "execution_count": null,
   "id": "117e8571",
   "metadata": {},
   "outputs": [],
   "source": [
    "save_model(VGGNet11_model,'Rice_Image_VGGNet11_Model_1.h5')"
   ]
  }
 ],
 "metadata": {
  "kernelspec": {
   "display_name": "Python 3 (ipykernel)",
   "language": "python",
   "name": "python3"
  },
  "language_info": {
   "codemirror_mode": {
    "name": "ipython",
    "version": 3
   },
   "file_extension": ".py",
   "mimetype": "text/x-python",
   "name": "python",
   "nbconvert_exporter": "python",
   "pygments_lexer": "ipython3",
   "version": "3.9.12"
  }
 },
 "nbformat": 4,
 "nbformat_minor": 5
}
