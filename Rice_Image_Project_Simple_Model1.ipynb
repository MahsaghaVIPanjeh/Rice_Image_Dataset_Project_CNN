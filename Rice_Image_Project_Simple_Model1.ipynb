{
 "cells": [
  {
   "cell_type": "markdown",
   "id": "d8141ee5",
   "metadata": {},
   "source": [
    "# Import Libraries"
   ]
  },
  {
   "cell_type": "code",
   "execution_count": 1,
   "id": "44fcdb15",
   "metadata": {},
   "outputs": [],
   "source": [
    "import numpy as np\n",
    "import pandas as pd\n",
    "import matplotlib.pyplot as plt\n",
    "import seaborn as sns\n",
    "import tensorflow as tf\n",
    "from sklearn.model_selection import train_test_split\n",
    "from keras.preprocessing.image import ImageDataGenerator\n",
    "from tensorflow.keras.models import Sequential,save_model\n",
    "from tensorflow.keras.layers import Conv2D,MaxPool2D,Flatten,Dense,BatchNormalization,Activation,Dropout\n",
    "from tensorflow.keras.optimizers import Adam\n",
    "import pathlib\n",
    "%matplotlib inline\n",
    "sns.set_style('whitegrid')"
   ]
  },
  {
   "cell_type": "markdown",
   "id": "e7e2cba3",
   "metadata": {},
   "source": [
    "# Upload Dataset"
   ]
  },
  {
   "cell_type": "code",
   "execution_count": 2,
   "id": "56d977cb",
   "metadata": {},
   "outputs": [],
   "source": [
    "dataset_train_dir = 'C:\\\\Users\\\\poya system\\\\Desktop\\\\Rice_Image_Dataset_Deep_Learning_Project\\\\train'"
   ]
  },
  {
   "cell_type": "code",
   "execution_count": 3,
   "id": "f7e6b161",
   "metadata": {},
   "outputs": [
    {
     "data": {
      "text/plain": [
       "WindowsPath('C:/Users/poya system/Desktop/Rice_Image_Dataset_Deep_Learning_Project/train')"
      ]
     },
     "execution_count": 3,
     "metadata": {},
     "output_type": "execute_result"
    }
   ],
   "source": [
    "dataset_train_dir = pathlib.Path(dataset_train_dir)\n",
    "dataset_train_dir"
   ]
  },
  {
   "cell_type": "markdown",
   "id": "4f03910b",
   "metadata": {},
   "source": [
    "# Split dataset to train and validation"
   ]
  },
  {
   "cell_type": "code",
   "execution_count": 4,
   "id": "bf0c398c",
   "metadata": {},
   "outputs": [],
   "source": [
    "dataset_train_gen = ImageDataGenerator(rescale=1./255,validation_split=0.15)"
   ]
  },
  {
   "cell_type": "code",
   "execution_count": 5,
   "id": "a8e88b5b",
   "metadata": {},
   "outputs": [
    {
     "name": "stdout",
     "output_type": "stream",
     "text": [
      "Found 57375 images belonging to 5 classes.\n",
      "Found 10125 images belonging to 5 classes.\n"
     ]
    }
   ],
   "source": [
    "train_set = dataset_train_gen.flow_from_directory(dataset_train_dir,target_size=(224,224),batch_size=32,class_mode='categorical',shuffle=True,subset='training')\n",
    "validation_set = dataset_train_gen.flow_from_directory(dataset_train_dir,target_size=(224,224),batch_size=1,shuffle=False,subset='validation')"
   ]
  },
  {
   "cell_type": "code",
   "execution_count": 6,
   "id": "e5a72c7d",
   "metadata": {},
   "outputs": [
    {
     "data": {
      "text/plain": [
       "{'Arborio': 0, 'Basmati': 1, 'Ipsala': 2, 'Jasmine': 3, 'Karacadag': 4}"
      ]
     },
     "execution_count": 6,
     "metadata": {},
     "output_type": "execute_result"
    }
   ],
   "source": [
    "train_set.class_indices"
   ]
  },
  {
   "cell_type": "markdown",
   "id": "8e0e4601",
   "metadata": {},
   "source": [
    "# Bulding CNN Models"
   ]
  },
  {
   "cell_type": "markdown",
   "id": "e616f9d9",
   "metadata": {},
   "source": [
    "## Simple CNN model"
   ]
  },
  {
   "cell_type": "code",
   "execution_count": 7,
   "id": "57799e28",
   "metadata": {},
   "outputs": [],
   "source": [
    "simple_model = Sequential()"
   ]
  },
  {
   "cell_type": "code",
   "execution_count": 8,
   "id": "c200274f",
   "metadata": {},
   "outputs": [],
   "source": [
    "simple_model.add(Conv2D(filters=32,kernel_size=(3,3),padding='valid',activation='relu',input_shape=[224,224,3]))"
   ]
  },
  {
   "cell_type": "code",
   "execution_count": 9,
   "id": "6a0b3bfa",
   "metadata": {},
   "outputs": [],
   "source": [
    "simple_model.add(MaxPool2D(pool_size=2,strides=2))"
   ]
  },
  {
   "cell_type": "code",
   "execution_count": 10,
   "id": "c57a92e9",
   "metadata": {},
   "outputs": [],
   "source": [
    "simple_model.add(Conv2D(filters=128,kernel_size=(3,3),activation='relu'))"
   ]
  },
  {
   "cell_type": "code",
   "execution_count": 11,
   "id": "01c0ecfa",
   "metadata": {},
   "outputs": [],
   "source": [
    "simple_model.add(MaxPool2D(pool_size=2,strides=2))"
   ]
  },
  {
   "cell_type": "code",
   "execution_count": 12,
   "id": "4bc57a45",
   "metadata": {},
   "outputs": [],
   "source": [
    "simple_model.add(Flatten())"
   ]
  },
  {
   "cell_type": "code",
   "execution_count": 13,
   "id": "75aeacff",
   "metadata": {},
   "outputs": [],
   "source": [
    "simple_model.add(Dense(units=128,activation='relu'))"
   ]
  },
  {
   "cell_type": "code",
   "execution_count": 14,
   "id": "8c85c1b7",
   "metadata": {},
   "outputs": [],
   "source": [
    "simple_model.add(Dense(units=64,activation='relu'))"
   ]
  },
  {
   "cell_type": "code",
   "execution_count": 15,
   "id": "28744fbc",
   "metadata": {},
   "outputs": [],
   "source": [
    "simple_model.add(Dense(units=40,activation='relu'))"
   ]
  },
  {
   "cell_type": "code",
   "execution_count": 16,
   "id": "b19ab6e2",
   "metadata": {},
   "outputs": [],
   "source": [
    "simple_model.add(Dropout(rate=0.1,seed=100))"
   ]
  },
  {
   "cell_type": "code",
   "execution_count": 17,
   "id": "4e264db6",
   "metadata": {},
   "outputs": [],
   "source": [
    "simple_model.add(Dense(units=5,activation='sigmoid'))"
   ]
  },
  {
   "cell_type": "code",
   "execution_count": 18,
   "id": "f073e8dc",
   "metadata": {},
   "outputs": [
    {
     "name": "stdout",
     "output_type": "stream",
     "text": [
      "Model: \"sequential\"\n",
      "_________________________________________________________________\n",
      " Layer (type)                Output Shape              Param #   \n",
      "=================================================================\n",
      " conv2d (Conv2D)             (None, 222, 222, 32)      896       \n",
      "                                                                 \n",
      " max_pooling2d (MaxPooling2D  (None, 111, 111, 32)     0         \n",
      " )                                                               \n",
      "                                                                 \n",
      " conv2d_1 (Conv2D)           (None, 109, 109, 128)     36992     \n",
      "                                                                 \n",
      " max_pooling2d_1 (MaxPooling  (None, 54, 54, 128)      0         \n",
      " 2D)                                                             \n",
      "                                                                 \n",
      " flatten (Flatten)           (None, 373248)            0         \n",
      "                                                                 \n",
      " dense (Dense)               (None, 128)               47775872  \n",
      "                                                                 \n",
      " dense_1 (Dense)             (None, 64)                8256      \n",
      "                                                                 \n",
      " dense_2 (Dense)             (None, 40)                2600      \n",
      "                                                                 \n",
      " dropout (Dropout)           (None, 40)                0         \n",
      "                                                                 \n",
      " dense_3 (Dense)             (None, 5)                 205       \n",
      "                                                                 \n",
      "=================================================================\n",
      "Total params: 47,824,821\n",
      "Trainable params: 47,824,821\n",
      "Non-trainable params: 0\n",
      "_________________________________________________________________\n"
     ]
    }
   ],
   "source": [
    "simple_model.summary()"
   ]
  },
  {
   "cell_type": "code",
   "execution_count": 19,
   "id": "ca60913d",
   "metadata": {},
   "outputs": [],
   "source": [
    "simple_model.compile(optimizer=Adam(learning_rate=0.01),loss='categorical_crossentropy',metrics=['accuracy'])"
   ]
  },
  {
   "cell_type": "code",
   "execution_count": 20,
   "id": "8653cc1d",
   "metadata": {
    "scrolled": false
   },
   "outputs": [
    {
     "name": "stdout",
     "output_type": "stream",
     "text": [
      "Epoch 1/4\n",
      "1793/1793 [==============================] - 4518s 3s/step - loss: 0.2225 - accuracy: 0.9347 - val_loss: 0.1025 - val_accuracy: 0.9632\n",
      "Epoch 2/4\n",
      "1793/1793 [==============================] - 5466s 3s/step - loss: 0.1179 - accuracy: 0.9629 - val_loss: 0.0889 - val_accuracy: 0.9664\n",
      "Epoch 3/4\n",
      "1793/1793 [==============================] - 4860s 3s/step - loss: 0.1131 - accuracy: 0.9641 - val_loss: 0.0908 - val_accuracy: 0.9679\n",
      "Epoch 4/4\n",
      "1793/1793 [==============================] - 5108s 3s/step - loss: 0.0987 - accuracy: 0.9689 - val_loss: 0.0734 - val_accuracy: 0.9742\n"
     ]
    },
    {
     "data": {
      "text/plain": [
       "<keras.callbacks.History at 0x18e8ebeeb50>"
      ]
     },
     "execution_count": 20,
     "metadata": {},
     "output_type": "execute_result"
    }
   ],
   "source": [
    "simple_model.fit(x=train_set,validation_data=validation_set,epochs=4,shuffle=True)"
   ]
  },
  {
   "cell_type": "code",
   "execution_count": 22,
   "id": "40fc0710",
   "metadata": {},
   "outputs": [],
   "source": [
    "save_model(simple_model,'RiceImageSimpleModel1.h5')"
   ]
  }
 ],
 "metadata": {
  "kernelspec": {
   "display_name": "Python 3 (ipykernel)",
   "language": "python",
   "name": "python3"
  },
  "language_info": {
   "codemirror_mode": {
    "name": "ipython",
    "version": 3
   },
   "file_extension": ".py",
   "mimetype": "text/x-python",
   "name": "python",
   "nbconvert_exporter": "python",
   "pygments_lexer": "ipython3",
   "version": "3.9.12"
  }
 },
 "nbformat": 4,
 "nbformat_minor": 5
}
